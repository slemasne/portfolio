{
 "cells": [
  {
   "cell_type": "markdown",
   "metadata": {},
   "source": [
    "### Bond valuations"
   ]
  },
  {
   "cell_type": "markdown",
   "metadata": {},
   "source": [
    "The purpose of this page is to demonstrate bond valuation principles using Python. \n",
    "\n",
    "In this notebook we will show the following bond concepts:\n",
    "\n",
    "* Bond pricing using DCF\n",
    "* Calculation of YTM\n",
    "* Calculation of Macualay Duration\n",
    "* Calculation of Modified Duration\n",
    "\n",
    "For the examples, we'll use a hypothetical 5 year Corporate bond which has a face of 1000 and coupon of 50. "
   ]
  },
  {
   "cell_type": "code",
   "execution_count": 98,
   "metadata": {},
   "outputs": [],
   "source": [
    "# Define the bond characteristics\n",
    "# As noted, we'll use a hypothetical 5 year Corporate bond which has a face of 1000 and coupon of 50\n",
    "\n",
    "face = 1000\n",
    "coupon = 50\n",
    "rate = 0.05\n",
    "periods = 5"
   ]
  },
  {
   "cell_type": "markdown",
   "metadata": {},
   "source": [
    "### Define class for Bond"
   ]
  },
  {
   "cell_type": "code",
   "execution_count": 127,
   "metadata": {},
   "outputs": [],
   "source": [
    "class Bond():\n",
    "    \n",
    "    def __init__ (self, par, coupon, periods):\n",
    "        self.par = par\n",
    "        self.coupon = coupon\n",
    "        self.periods = periods\n",
    "    \n",
    "    def pv(self, rate, back_in = False):\n",
    "    \n",
    "        \"\"\"\n",
    "        Returns the Present Value (PV) of a bond.\n",
    "\n",
    "        Keyword arguments:\n",
    "        -------------------\n",
    "\n",
    "        Face (int): The par value of the bond\n",
    "        Coupon (int): The value of yearly payments\n",
    "        rate (int): the discount rate of the bond\n",
    "        periods (int): time in years; the life of the bond\n",
    "        back_in (boolean): prints the step-by-step calculation\n",
    "        \"\"\"\n",
    "\n",
    "        # Loop over a series of numbers from 1 to the number of periods\n",
    "        # Sum all the discounted Cash Flows\n",
    "        # Independently calculate the discounted CF from the final\n",
    "        \n",
    "        discounted_cfs = [((self.coupon / ((1 + rate)**n))) for n in range(1, self.periods+1)]\n",
    "        sum_coupons = sum(discounted_cfs)\n",
    "        final_payment = (self.par / ((1 + rate)**periods))    \n",
    "        total_pv = sum_coupons + final_payment\n",
    "\n",
    "        # Define an optional argument \n",
    "        # Which prints a step-by-step calculation to the terminal\n",
    "\n",
    "        if back_in == True:\n",
    "            print (\"Bond price breakdown \\n-------------------\")\n",
    "            print (\"Discount rate: {}\".format(rate))\n",
    "            print (\"Periods: {}\".format(periods))\n",
    "            print (\"Coupon: {}\\n\".format(coupon))\n",
    "            for period, i in enumerate(discounted_cfs, start=1):\n",
    "                print (\"Discounted CF for Coupon in Year {} is {}\".format(str(period), str(round(i,2))))\n",
    "            print (\"Discounted Principal is {}\\n\".format(str(round(final_payment,2))))\n",
    "            print (\"Bond price is: {}\".format(str(round(total_pv,2))))\n",
    "            return round(total_pv,2)\n",
    "\n",
    "        return round(total_pv,2)\n",
    "    \n",
    "    def ytm(self, price, back_in = False):\n",
    "    \n",
    "        \"\"\"\n",
    "        Returns the YTM of a bond.\n",
    "\n",
    "        Keyword arguments:\n",
    "        -------------------\n",
    "\n",
    "        Face (int): The par value of the bond\n",
    "        Coupon (int): The value of yearly payments\n",
    "        periods (int): time in years; the life of the bond\n",
    "        price (int): The current market price of a bond\n",
    "        back_in (boolean): prints the step-by-step calculation\n",
    "        \"\"\"\n",
    "\n",
    "        # Computing YTM is essentially a game of trial and error\n",
    "        # We start by assuming the YTM is equal to the coupon rate\n",
    "        # Next, if the Market Price of the bond is less than the Par Value, we know the YTM must be higher\n",
    "        # Therefore, we add 1 basis point to our assumed YTM\n",
    "        # Then, we recalculate the PV price with new YTM\n",
    "        # If new PV price (calculated with new YTM) is still higher than Market Price, we repeat this exercise\n",
    "        # Otherwise, the YTM for the new PV price, is approximately the YTM used to calculate the Market Price\n",
    "\n",
    "        coupon_rate = (self.coupon/face)\n",
    "        ytm_val = coupon_rate\n",
    "        condition = True\n",
    "        while condition:\n",
    "            if price < self.par:\n",
    "                ytm_val += 0.0001\n",
    "            else:\n",
    "                ytm_val -= 0.0001\n",
    "\n",
    "            total_pv =  round(self.pv(ytm_val),2)\n",
    "\n",
    "            if (total_pv > price) and (ytm_val > coupon_rate):\n",
    "                condition = True\n",
    "\n",
    "            elif(total_pv < price) and (ytm_val < coupon_rate):\n",
    "                    condition = True\n",
    "\n",
    "            else:\n",
    "                condition = False\n",
    "        \n",
    "        if back_in == True:\n",
    "            print (\"A PV of {} generates a YTM of {}\".format(total_pv, str(round(ytm_val,2))))\n",
    "        \n",
    "        return ytm_val\n",
    "    \n",
    "    \n",
    "    def mc_dur(self, rate, back_in = False):\n",
    "    \n",
    "        \"\"\"\n",
    "        Returns the Macaulay Duration of a bond. \n",
    "        The The Macaulay duration is calculed by multiplying the PV of each Cash Flow\n",
    "        by the time it is recieved and diving by the price of the bond. \n",
    "\n",
    "        Keyword Arguments\n",
    "        -----------------\n",
    "        Face (int): The par value of the bond\n",
    "        Coupon (int): The value of yearly payments\n",
    "        rate (int): the discount rate of the bond\n",
    "        periods (int): time in years; the life of the bond\n",
    "        back_in (boolean): prints the step-by-step calculation\n",
    "\n",
    "        \"\"\"\n",
    "\n",
    "        price = self.pv(rate)\n",
    "\n",
    "        # Create an empty list to hold weighted dicounted CFs\n",
    "        # Loop over range from 1 to number of periods\n",
    "        # Assign a weight to each CF\n",
    "        # Calculate the weighted principal\n",
    "        # Return the result of weighted CFs (coupons + princiap) divided by price\n",
    "        \n",
    "        weighted_dcfs = [((coupon * n) / ((1 + rate)**n)) for n in range(1, periods+1)]\n",
    "        weighted_principal = ((face * periods) / ((1 + rate)**periods))\n",
    "        result = round(((sum(weighted_dcfs) + weighted_principal)/price),2)\n",
    "\n",
    "        if back_in == True:\n",
    "            print ('Macaualy Duration Calculation\\n------------------------------\\n')\n",
    "            for n, i in enumerate(weighted_dcfs, start = 1):\n",
    "                print ('Weighted CF for Period {} is: {}\\n'.format(n, round(i)))\n",
    "            print ('Weighted CF for Principal is: {}\\n'.format(int(weighted_principal)))\n",
    "            print ('Total weighted CF is: {}'.format(int((sum(weighted_dcfs) + weighted_principal))))\n",
    "            print ('Bond price is: {}'.format(price))\n",
    "            print ('Macaualy Duration is {}'.format(result))\n",
    "\n",
    "        return result\n",
    "    \n",
    "    \n",
    "    def modified_dur(self, rate):\n",
    "    \n",
    "        \"\"\"\n",
    "        The modified duration is an adjusted version of the Macaulay duration, \n",
    "        which accounts for changing yield to maturities.\n",
    "\n",
    "        Keyword Arguments:\n",
    "        -------------------\n",
    "        Face (int): The par value of the bond\n",
    "        Coupon (int): The value of yearly payments\n",
    "        rate (int): the discount rate of the bond\n",
    "        periods (int): time in years; the life of the bond\n",
    "        back_in (boolean): prints the step-by-step calculation\n",
    "        \"\"\"\n",
    "\n",
    "        price = self.pv(rate)\n",
    "        mc_duration = self.mc_dur(rate)\n",
    "        ytmat = self.ytm(price)\n",
    "\n",
    "        mod_dur = mc_duration / (1 + ytmat)\n",
    "\n",
    "        return round(mod_dur,2)"
   ]
  },
  {
   "cell_type": "markdown",
   "metadata": {},
   "source": [
    "### Try out the class results"
   ]
  },
  {
   "cell_type": "code",
   "execution_count": 128,
   "metadata": {},
   "outputs": [],
   "source": [
    "# Initiate a bond using the Bond() class\n",
    "# We'll call this bond object walmart\n",
    "# The bond will have the following attributes:\n",
    "# Face = 1000\n",
    "# Coupons = 65\n",
    "# Years = 5\n",
    "\n",
    "walmart = Bond(1000, 50, 5)"
   ]
  },
  {
   "cell_type": "code",
   "execution_count": 129,
   "metadata": {},
   "outputs": [
    {
     "data": {
      "text/plain": [
       "1000.0"
      ]
     },
     "execution_count": 129,
     "metadata": {},
     "output_type": "execute_result"
    }
   ],
   "source": [
    "# At par, the interest rate will equal the coupon rate\n",
    "# The bond is priced at par\n",
    "# Call the Present Value method on walmart using 0.05 as an interest rate\n",
    "\n",
    "walmart.pv(0.05)"
   ]
  },
  {
   "cell_type": "code",
   "execution_count": 130,
   "metadata": {},
   "outputs": [
    {
     "name": "stdout",
     "output_type": "stream",
     "text": [
      "Bond price breakdown \n",
      "-------------------\n",
      "Discount rate: 0.05\n",
      "Periods: 5\n",
      "Coupon: 50\n",
      "\n",
      "Discounted CF for Coupon in Year 1 is 47.62\n",
      "Discounted CF for Coupon in Year 2 is 45.35\n",
      "Discounted CF for Coupon in Year 3 is 43.19\n",
      "Discounted CF for Coupon in Year 4 is 41.14\n",
      "Discounted CF for Coupon in Year 5 is 39.18\n",
      "Discounted Principal is 783.53\n",
      "\n",
      "Bond price is: 1000.0\n"
     ]
    },
    {
     "data": {
      "text/plain": [
       "1000.0"
      ]
     },
     "execution_count": 130,
     "metadata": {},
     "output_type": "execute_result"
    }
   ],
   "source": [
    "# We can back into this calculation using the back_in argument of pv() method\n",
    "# The bond price is the sum of all these Cash Flows\n",
    "\n",
    "walmart.pv(0.05, back_in = True)"
   ]
  },
  {
   "cell_type": "code",
   "execution_count": 131,
   "metadata": {},
   "outputs": [
    {
     "data": {
      "text/plain": [
       "918.0"
      ]
     },
     "execution_count": 131,
     "metadata": {},
     "output_type": "execute_result"
    }
   ],
   "source": [
    "# Now, lets imagine the credit worthiness of walmart decreases\n",
    "# Investors now demand 7%\n",
    "# The value of the bond falls as it is only payint 5%\n",
    "\n",
    "walmart.pv(0.07, back_in = False)"
   ]
  },
  {
   "cell_type": "code",
   "execution_count": 132,
   "metadata": {},
   "outputs": [
    {
     "name": "stdout",
     "output_type": "stream",
     "text": [
      "A PV of 939.66 generates a YTM of 0.06\n"
     ]
    },
    {
     "data": {
      "text/plain": [
       "0.06450000000000042"
      ]
     },
     "execution_count": 132,
     "metadata": {},
     "output_type": "execute_result"
    }
   ],
   "source": [
    "# Next month, the price of the bond increases to 940\n",
    "# We use the YTM method to see what yield an investor would expect when they pay 940 for the same bond\n",
    "\n",
    "walmart.ytm(940, back_in= True)"
   ]
  },
  {
   "cell_type": "code",
   "execution_count": 133,
   "metadata": {},
   "outputs": [
    {
     "name": "stdout",
     "output_type": "stream",
     "text": [
      "Macaualy Duration Calculation\n",
      "------------------------------\n",
      "\n",
      "Weighted CF for Period 1 is: 47\n",
      "\n",
      "Weighted CF for Period 2 is: 87\n",
      "\n",
      "Weighted CF for Period 3 is: 122\n",
      "\n",
      "Weighted CF for Period 4 is: 153\n",
      "\n",
      "Weighted CF for Period 5 is: 178\n",
      "\n",
      "Weighted CF for Principal is: 3564\n",
      "\n",
      "Total weighted CF is: 4152\n",
      "Bond price is: 918.0\n",
      "Macaualy Duration is 4.52\n"
     ]
    },
    {
     "data": {
      "text/plain": [
       "4.52"
      ]
     },
     "execution_count": 133,
     "metadata": {},
     "output_type": "execute_result"
    }
   ],
   "source": [
    "# Lets now check the Macaulay Duration for the same bond\n",
    "\n",
    "walmart.mc_dur(0.07, back_in= True)"
   ]
  },
  {
   "cell_type": "code",
   "execution_count": 134,
   "metadata": {},
   "outputs": [
    {
     "data": {
      "text/plain": [
       "4.22"
      ]
     },
     "execution_count": 134,
     "metadata": {},
     "output_type": "execute_result"
    }
   ],
   "source": [
    "# And the modified duration\n",
    "\n",
    "walmart.modified_dur(0.07)"
   ]
  },
  {
   "cell_type": "code",
   "execution_count": 136,
   "metadata": {},
   "outputs": [
    {
     "name": "stdout",
     "output_type": "stream",
     "text": [
      "-0.0429\n"
     ]
    }
   ],
   "source": [
    "# The modified duration shows the percentage price change for 1% change in interest rate\n",
    "# Lets try it out\n",
    "\n",
    "price_7pct = walmart.pv(0.07)\n",
    "price_8pct = walmart.pv(0.08)\n",
    "price_change = (1 - (price_7pct/price_8pct))\n",
    "\n",
    "# The price change of ~ -4.2% ties out\n",
    "\n",
    "print (round(price_change,4))"
   ]
  },
  {
   "cell_type": "code",
   "execution_count": null,
   "metadata": {},
   "outputs": [],
   "source": []
  },
  {
   "cell_type": "code",
   "execution_count": null,
   "metadata": {},
   "outputs": [],
   "source": []
  }
 ],
 "metadata": {
  "anaconda-cloud": {},
  "kernelspec": {
   "display_name": "Python 3",
   "language": "python",
   "name": "python3"
  }
 },
 "nbformat": 4,
 "nbformat_minor": 2
}
