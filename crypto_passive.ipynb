{
 "cells": [
  {
   "cell_type": "markdown",
   "metadata": {},
   "source": [
    "# Cryptocurrency passive stategy\n",
    "\n",
    "This document shows a python script which can be used to implement a simple market-weighted passive strategy for trading crypto currencies. The script calls data from coinmarketcap.com API into a pandas DataFrame. We then display Top 10 currencies and use this detail to make BUY/SELL reccomendations to re-balance a hypothetical portfolio."
   ]
  },
  {
   "cell_type": "code",
   "execution_count": 9,
   "metadata": {
    "collapsed": false
   },
   "outputs": [
    {
     "name": "stdout",
     "output_type": "stream",
     "text": [
      "Populating the interactive namespace from numpy and matplotlib\n"
     ]
    }
   ],
   "source": [
    "# Import the packages we'll use for our analysis\n",
    "\n",
    "import pandas as pd\n",
    "import datetime\n",
    "import requests\n",
    "import seaborn as sns\n",
    "import matplotlib.pyplot as plt\n",
    "\n",
    "# Use line magic function to enable matplotlib to work interactively with iPython\n",
    "\n",
    "%matplotlib inline\n",
    "%pylab inline\n",
    "\n",
    "#Set style\n",
    "#plt.style.use(\"seaborn-whitegrid\")\n",
    "style.use('fivethirtyeight')\n",
    "#sns.set_style(\"whitegrid\")\n",
    "pylab.rcParams[\"figure.figsize\"] = (8,6)\n",
    "#sns.palplot(sns.color_palette(\"Blues_d\"))"
   ]
  },
  {
   "cell_type": "code",
   "execution_count": 10,
   "metadata": {
    "collapsed": false
   },
   "outputs": [
    {
     "data": {
      "text/html": [
       "<div>\n",
       "<style scoped>\n",
       "    .dataframe tbody tr th:only-of-type {\n",
       "        vertical-align: middle;\n",
       "    }\n",
       "\n",
       "    .dataframe tbody tr th {\n",
       "        vertical-align: top;\n",
       "    }\n",
       "\n",
       "    .dataframe thead th {\n",
       "        text-align: right;\n",
       "    }\n",
       "</style>\n",
       "<table border=\"1\" class=\"dataframe\">\n",
       "  <thead>\n",
       "    <tr style=\"text-align: right;\">\n",
       "      <th></th>\n",
       "      <th>24h_volume_usd</th>\n",
       "      <th>available_supply</th>\n",
       "      <th>id</th>\n",
       "      <th>last_updated</th>\n",
       "      <th>market_cap_usd</th>\n",
       "      <th>max_supply</th>\n",
       "      <th>name</th>\n",
       "      <th>percent_change_1h</th>\n",
       "      <th>percent_change_24h</th>\n",
       "      <th>percent_change_7d</th>\n",
       "      <th>price_btc</th>\n",
       "      <th>price_usd</th>\n",
       "      <th>rank</th>\n",
       "      <th>symbol</th>\n",
       "      <th>total_supply</th>\n",
       "    </tr>\n",
       "  </thead>\n",
       "  <tbody>\n",
       "    <tr>\n",
       "      <th>0</th>\n",
       "      <td>9892490000.0</td>\n",
       "      <td>16817837.0</td>\n",
       "      <td>bitcoin</td>\n",
       "      <td>1516577665</td>\n",
       "      <td>193800344670</td>\n",
       "      <td>21000000.0</td>\n",
       "      <td>Bitcoin</td>\n",
       "      <td>0.22</td>\n",
       "      <td>-10.69</td>\n",
       "      <td>-15.92</td>\n",
       "      <td>1.0</td>\n",
       "      <td>11523.5</td>\n",
       "      <td>1</td>\n",
       "      <td>BTC</td>\n",
       "      <td>16817837.0</td>\n",
       "    </tr>\n",
       "    <tr>\n",
       "      <th>1</th>\n",
       "      <td>3369230000.0</td>\n",
       "      <td>97127819.0</td>\n",
       "      <td>ethereum</td>\n",
       "      <td>1516577651</td>\n",
       "      <td>101321797832</td>\n",
       "      <td>None</td>\n",
       "      <td>Ethereum</td>\n",
       "      <td>-0.07</td>\n",
       "      <td>-9.64</td>\n",
       "      <td>-22.45</td>\n",
       "      <td>0.091375</td>\n",
       "      <td>1043.18</td>\n",
       "      <td>2</td>\n",
       "      <td>ETH</td>\n",
       "      <td>97127819.0</td>\n",
       "    </tr>\n",
       "  </tbody>\n",
       "</table>\n",
       "</div>"
      ],
      "text/plain": [
       "  24h_volume_usd available_supply        id last_updated market_cap_usd  \\\n",
       "0   9892490000.0       16817837.0   bitcoin   1516577665   193800344670   \n",
       "1   3369230000.0       97127819.0  ethereum   1516577651   101321797832   \n",
       "\n",
       "   max_supply      name percent_change_1h percent_change_24h  \\\n",
       "0  21000000.0   Bitcoin              0.22             -10.69   \n",
       "1        None  Ethereum             -0.07              -9.64   \n",
       "\n",
       "  percent_change_7d price_btc price_usd rank symbol total_supply  \n",
       "0            -15.92       1.0   11523.5    1    BTC   16817837.0  \n",
       "1            -22.45  0.091375   1043.18    2    ETH   97127819.0  "
      ]
     },
     "execution_count": 10,
     "metadata": {},
     "output_type": "execute_result"
    }
   ],
   "source": [
    "# Create a variable to store the URL for the coinmarketcap data\n",
    "# Initialize a data object to store the response of a HTTP GET request on the URL\n",
    "# Use the JSON method of the response object to store JSON list to variable called \"json\"\n",
    "# Use the JSON to initialize a pandas DataFrame\n",
    "# Check top two results of DataFrame to ensure data looks correct\n",
    "\n",
    "url =  r'https://api.coinmarketcap.com/v1/ticker/?limit=0'\n",
    "data= requests.get(url)\n",
    "json=data.json()\n",
    "df=pd.DataFrame(json)\n",
    "df.head(2)"
   ]
  },
  {
   "cell_type": "code",
   "execution_count": 11,
   "metadata": {
    "collapsed": false
   },
   "outputs": [
    {
     "name": "stdout",
     "output_type": "stream",
     "text": [
      "The count of total currencies today is 1120\n",
      "\n",
      "The toal market cap is $ 556,665,837,030\n",
      "\n"
     ]
    }
   ],
   "source": [
    "count = df[\"market_cap_usd\"].count()\n",
    "print \"The count of total currencies today is {}\\n\".format(count)\n",
    "\n",
    "df[\"market_cap_usd\"]  = pd.to_numeric(df[\"market_cap_usd\"])\n",
    "mc = df[\"market_cap_usd\"].sum()\n",
    "print \"The toal market cap is $ {}\\n\".format('{0:,.0f}'.format(mc))"
   ]
  },
  {
   "cell_type": "code",
   "execution_count": 12,
   "metadata": {
    "collapsed": false
   },
   "outputs": [
    {
     "name": "stdout",
     "output_type": "stream",
     "text": [
      "The market cap of coins lower than 10th in rank is $117,556,378,166\n"
     ]
    }
   ],
   "source": [
    "mc_other = df[\"market_cap_usd\"][10:].sum()\n",
    "print \"The market cap of coins lower than 10th in rank is ${}\".format('{0:,.0f}'.format(mc_other))\n",
    "df2 = pd.DataFrame([[\"other\",mc_other]], columns=[\"id\",\"market_cap_usd\"])"
   ]
  },
  {
   "cell_type": "code",
   "execution_count": 13,
   "metadata": {
    "collapsed": false
   },
   "outputs": [
    {
     "data": {
      "text/html": [
       "<div>\n",
       "<style scoped>\n",
       "    .dataframe tbody tr th:only-of-type {\n",
       "        vertical-align: middle;\n",
       "    }\n",
       "\n",
       "    .dataframe tbody tr th {\n",
       "        vertical-align: top;\n",
       "    }\n",
       "\n",
       "    .dataframe thead th {\n",
       "        text-align: right;\n",
       "    }\n",
       "</style>\n",
       "<table border=\"1\" class=\"dataframe\">\n",
       "  <thead>\n",
       "    <tr style=\"text-align: right;\">\n",
       "      <th></th>\n",
       "      <th>market_cap_usd</th>\n",
       "      <th>total_usd</th>\n",
       "      <th>pct_of_market</th>\n",
       "    </tr>\n",
       "    <tr>\n",
       "      <th>id</th>\n",
       "      <th></th>\n",
       "      <th></th>\n",
       "      <th></th>\n",
       "    </tr>\n",
       "  </thead>\n",
       "  <tbody>\n",
       "    <tr>\n",
       "      <th>bitcoin</th>\n",
       "      <td>1.938003e+11</td>\n",
       "      <td>5.566658e+11</td>\n",
       "      <td>34.814485</td>\n",
       "    </tr>\n",
       "    <tr>\n",
       "      <th>ethereum</th>\n",
       "      <td>1.013218e+11</td>\n",
       "      <td>5.566658e+11</td>\n",
       "      <td>18.201548</td>\n",
       "    </tr>\n",
       "    <tr>\n",
       "      <th>ripple</th>\n",
       "      <td>5.343290e+10</td>\n",
       "      <td>5.566658e+11</td>\n",
       "      <td>9.598739</td>\n",
       "    </tr>\n",
       "    <tr>\n",
       "      <th>bitcoin-cash</th>\n",
       "      <td>2.976120e+10</td>\n",
       "      <td>5.566658e+11</td>\n",
       "      <td>5.346331</td>\n",
       "    </tr>\n",
       "    <tr>\n",
       "      <th>cardano</th>\n",
       "      <td>1.587273e+10</td>\n",
       "      <td>5.566658e+11</td>\n",
       "      <td>2.851394</td>\n",
       "    </tr>\n",
       "    <tr>\n",
       "      <th>litecoin</th>\n",
       "      <td>1.038139e+10</td>\n",
       "      <td>5.566658e+11</td>\n",
       "      <td>1.864923</td>\n",
       "    </tr>\n",
       "    <tr>\n",
       "      <th>nem</th>\n",
       "      <td>9.609390e+09</td>\n",
       "      <td>5.566658e+11</td>\n",
       "      <td>1.726240</td>\n",
       "    </tr>\n",
       "    <tr>\n",
       "      <th>neo</th>\n",
       "      <td>8.484645e+09</td>\n",
       "      <td>5.566658e+11</td>\n",
       "      <td>1.524190</td>\n",
       "    </tr>\n",
       "    <tr>\n",
       "      <th>stellar</th>\n",
       "      <td>8.254504e+09</td>\n",
       "      <td>5.566658e+11</td>\n",
       "      <td>1.482847</td>\n",
       "    </tr>\n",
       "    <tr>\n",
       "      <th>eos</th>\n",
       "      <td>8.190555e+09</td>\n",
       "      <td>5.566658e+11</td>\n",
       "      <td>1.471359</td>\n",
       "    </tr>\n",
       "    <tr>\n",
       "      <th>other</th>\n",
       "      <td>1.175564e+11</td>\n",
       "      <td>5.566658e+11</td>\n",
       "      <td>21.117944</td>\n",
       "    </tr>\n",
       "  </tbody>\n",
       "</table>\n",
       "</div>"
      ],
      "text/plain": [
       "              market_cap_usd     total_usd  pct_of_market\n",
       "id                                                       \n",
       "bitcoin         1.938003e+11  5.566658e+11      34.814485\n",
       "ethereum        1.013218e+11  5.566658e+11      18.201548\n",
       "ripple          5.343290e+10  5.566658e+11       9.598739\n",
       "bitcoin-cash    2.976120e+10  5.566658e+11       5.346331\n",
       "cardano         1.587273e+10  5.566658e+11       2.851394\n",
       "litecoin        1.038139e+10  5.566658e+11       1.864923\n",
       "nem             9.609390e+09  5.566658e+11       1.726240\n",
       "neo             8.484645e+09  5.566658e+11       1.524190\n",
       "stellar         8.254504e+09  5.566658e+11       1.482847\n",
       "eos             8.190555e+09  5.566658e+11       1.471359\n",
       "other           1.175564e+11  5.566658e+11      21.117944"
      ]
     },
     "execution_count": 13,
     "metadata": {},
     "output_type": "execute_result"
    }
   ],
   "source": [
    "df_mc = df[[\"id\",\"market_cap_usd\"]][:10]\n",
    "df_mc[\"market_cap_usd\"]  = pd.to_numeric(df_mc[\"market_cap_usd\"], downcast='integer')\n",
    "df_mc = df_mc.append(df2, ignore_index = True)\n",
    "df_mc[\"total_usd\"] = mc\n",
    "df_mc[\"pct_of_market\"] = (df_mc[\"market_cap_usd\"] / df_mc[\"total_usd\"]) * 100\n",
    "df_mc = df_mc.set_index(\"id\")\n",
    "df_mc"
   ]
  },
  {
   "cell_type": "code",
   "execution_count": 32,
   "metadata": {
    "collapsed": false
   },
   "outputs": [
    {
     "data": {
      "text/plain": [
       "<matplotlib.text.Annotation at 0x1347ba50>"
      ]
     },
     "execution_count": 32,
     "metadata": {},
     "output_type": "execute_result"
    },
    {
     "data": {
      "image/png": "[encoded data removed]",
      "text/plain": [
       "<matplotlib.figure.Figure at 0x12faef70>"
      ]
     },
     "metadata": {},
     "output_type": "display_data"
    }
   ],
   "source": [
    "footer = \"\"\"This barchart shows the proportion market cap for each of the Top 10 \n",
    "currencies according to coinmarketcap.com. As of today, the entire market cap \n",
    "of all currencies is ${}\"\"\".format('{0:,.0f}'.format(mc))\n",
    "\n",
    "\n",
    "top_10 = df_mc[[\"pct_of_market\"]]\n",
    "top_10 = top_10.sort_values(\"pct_of_market\", ascending = False)\n",
    "ax = top_10[\"pct_of_market\"].plot.barh(grid = True, fontsize = 15, figsize  = (8,5), stacked=\"True\", colormap='winter')\n",
    "ax.set(ylabel = \"\")\n",
    "#ax.set(xlabel = \"Percentage of Market\")\n",
    "ax.set_title(\"% Market Cap of Top 10 coins\",fontsize = 15)\n",
    "plt.annotate(footer, (0,0), (0, -40), xycoords='axes fraction', textcoords='offset points', va='top')"
   ]
  },
  {
   "cell_type": "code",
   "execution_count": 15,
   "metadata": {
    "collapsed": false
   },
   "outputs": [
    {
     "data": {
      "text/html": [
       "<div>\n",
       "<style scoped>\n",
       "    .dataframe tbody tr th:only-of-type {\n",
       "        vertical-align: middle;\n",
       "    }\n",
       "\n",
       "    .dataframe tbody tr th {\n",
       "        vertical-align: top;\n",
       "    }\n",
       "\n",
       "    .dataframe thead th {\n",
       "        text-align: right;\n",
       "    }\n",
       "</style>\n",
       "<table border=\"1\" class=\"dataframe\">\n",
       "  <thead>\n",
       "    <tr style=\"text-align: right;\">\n",
       "      <th></th>\n",
       "      <th>start_alloc</th>\n",
       "      <th>pct_of_market</th>\n",
       "      <th>AUM</th>\n",
       "      <th>target_alloc</th>\n",
       "    </tr>\n",
       "    <tr>\n",
       "      <th>id</th>\n",
       "      <th></th>\n",
       "      <th></th>\n",
       "      <th></th>\n",
       "      <th></th>\n",
       "    </tr>\n",
       "  </thead>\n",
       "  <tbody>\n",
       "    <tr>\n",
       "      <th>bitcoin</th>\n",
       "      <td>100</td>\n",
       "      <td>34.814485</td>\n",
       "      <td>1000</td>\n",
       "      <td>348.144851</td>\n",
       "    </tr>\n",
       "    <tr>\n",
       "      <th>ethereum</th>\n",
       "      <td>100</td>\n",
       "      <td>18.201548</td>\n",
       "      <td>1000</td>\n",
       "      <td>182.015477</td>\n",
       "    </tr>\n",
       "    <tr>\n",
       "      <th>ripple</th>\n",
       "      <td>100</td>\n",
       "      <td>9.598739</td>\n",
       "      <td>1000</td>\n",
       "      <td>95.987388</td>\n",
       "    </tr>\n",
       "    <tr>\n",
       "      <th>bitcoin-cash</th>\n",
       "      <td>100</td>\n",
       "      <td>5.346331</td>\n",
       "      <td>1000</td>\n",
       "      <td>53.463308</td>\n",
       "    </tr>\n",
       "    <tr>\n",
       "      <th>cardano</th>\n",
       "      <td>100</td>\n",
       "      <td>2.851394</td>\n",
       "      <td>1000</td>\n",
       "      <td>28.513936</td>\n",
       "    </tr>\n",
       "    <tr>\n",
       "      <th>litecoin</th>\n",
       "      <td>100</td>\n",
       "      <td>1.864923</td>\n",
       "      <td>1000</td>\n",
       "      <td>18.649233</td>\n",
       "    </tr>\n",
       "    <tr>\n",
       "      <th>nem</th>\n",
       "      <td>100</td>\n",
       "      <td>1.726240</td>\n",
       "      <td>1000</td>\n",
       "      <td>17.262403</td>\n",
       "    </tr>\n",
       "    <tr>\n",
       "      <th>neo</th>\n",
       "      <td>100</td>\n",
       "      <td>1.524190</td>\n",
       "      <td>1000</td>\n",
       "      <td>15.241900</td>\n",
       "    </tr>\n",
       "    <tr>\n",
       "      <th>stellar</th>\n",
       "      <td>100</td>\n",
       "      <td>1.482847</td>\n",
       "      <td>1000</td>\n",
       "      <td>14.828473</td>\n",
       "    </tr>\n",
       "    <tr>\n",
       "      <th>eos</th>\n",
       "      <td>100</td>\n",
       "      <td>1.471359</td>\n",
       "      <td>1000</td>\n",
       "      <td>14.713594</td>\n",
       "    </tr>\n",
       "  </tbody>\n",
       "</table>\n",
       "</div>"
      ],
      "text/plain": [
       "              start_alloc  pct_of_market   AUM  target_alloc\n",
       "id                                                          \n",
       "bitcoin               100      34.814485  1000    348.144851\n",
       "ethereum              100      18.201548  1000    182.015477\n",
       "ripple                100       9.598739  1000     95.987388\n",
       "bitcoin-cash          100       5.346331  1000     53.463308\n",
       "cardano               100       2.851394  1000     28.513936\n",
       "litecoin              100       1.864923  1000     18.649233\n",
       "nem                   100       1.726240  1000     17.262403\n",
       "neo                   100       1.524190  1000     15.241900\n",
       "stellar               100       1.482847  1000     14.828473\n",
       "eos                   100       1.471359  1000     14.713594"
      ]
     },
     "execution_count": 15,
     "metadata": {},
     "output_type": "execute_result"
    }
   ],
   "source": [
    "allocation =  [100] * 10\n",
    "ids = df_mc.index[:10]\n",
    "port = pd.DataFrame({\"start_alloc\":allocation, \"id\":ids}).set_index(\"id\")\n",
    "port = port.join(df_mc[\"pct_of_market\"])\n",
    "port[\"AUM\"] = port[\"start_alloc\"].sum()\n",
    "port[\"target_alloc\"] = (port[\"pct_of_market\"] / 100) * port[\"AUM\"]\n",
    "port"
   ]
  },
  {
   "cell_type": "code",
   "execution_count": 16,
   "metadata": {
    "collapsed": false
   },
   "outputs": [
    {
     "name": "stdout",
     "output_type": "stream",
     "text": [
      "BUY: 248.0 bitcoin\n",
      "BUY: 82.0 ethereum\n",
      "SELL: 4.0 ripple\n",
      "SELL: 47.0 bitcoin-cash\n",
      "SELL: 71.0 cardano\n",
      "SELL: 81.0 litecoin\n",
      "SELL: 83.0 nem\n",
      "SELL: 85.0 neo\n",
      "SELL: 85.0 stellar\n",
      "SELL: 85.0 eos\n"
     ]
    }
   ],
   "source": [
    "for index, row in port.iterrows():\n",
    "    if row[\"target_alloc\"] > row[\"start_alloc\"]:\n",
    "        print \"BUY: \" + str(round(row[\"target_alloc\"] - row[\"start_alloc\"])) + \" {}\".format(index)\n",
    "    \n",
    "    if row[\"target_alloc\"] < row[\"start_alloc\"]:\n",
    "        print \"SELL: \" + str(round(row[\"start_alloc\"] - row[\"target_alloc\"])) + \" {}\".format(index)"
   ]
  },
  {
   "cell_type": "code",
   "execution_count": null,
   "metadata": {
    "collapsed": true
   },
   "outputs": [],
   "source": []
  },
  {
   "cell_type": "code",
   "execution_count": null,
   "metadata": {
    "collapsed": true
   },
   "outputs": [],
   "source": []
  }
 ],
 "metadata": {
  "anaconda-cloud": {},
  "kernelspec": {
   "display_name": "Python [Anaconda2]",
   "language": "python",
   "name": "Python [Anaconda2]"
  },
  "language_info": {
   "codemirror_mode": {
    "name": "ipython",
    "version": 2
   },
   "file_extension": ".py",
   "mimetype": "text/x-python",
   "name": "python",
   "nbconvert_exporter": "python",
   "pygments_lexer": "ipython2",
   "version": "2.7.14"
  }
 },
 "nbformat": 4,
 "nbformat_minor": 2
}
