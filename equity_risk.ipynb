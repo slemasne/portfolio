{
 "cells": [
  {
   "cell_type": "markdown",
   "metadata": {},
   "source": [
    "## Measuring Equity Risk\n",
    "\n",
    "In this notebook we'll explore two statistical methods for calculating Equity Risk:\n",
    "\n",
    "+ Variance: fluctuation of stock return from its mean\n",
    "+ VaR: the maximum an investor could loose (within a confidence interval)\n",
    "\n",
    "For the purposes of this notebook, we'll explore the above looking at the risk of Apple (ticker = AAPL)."
   ]
  },
  {
   "cell_type": "code",
   "execution_count": 139,
   "metadata": {},
   "outputs": [
    {
     "name": "stdout",
     "output_type": "stream",
     "text": [
      "Populating the interactive namespace from numpy and matplotlib\n"
     ]
    },
    {
     "name": "stderr",
     "output_type": "stream",
     "text": [
      "/Users/slemasne/anaconda3/lib/python3.6/site-packages/IPython/core/magics/pylab.py:160: UserWarning: pylab import has clobbered these variables: ['norm', 'test']\n",
      "`%matplotlib` prevents importing * from pylab and numpy\n",
      "  \"\\n`%matplotlib` prevents importing * from pylab and numpy\"\n"
     ]
    }
   ],
   "source": [
    "# Import all the required packages\n",
    "# The pandas_datareader library contains functions which allow us to call data from various internet sources\n",
    "import pandas as pd\n",
    "import quandl\n",
    "import datetime\n",
    "import matplotlib.pyplot as plt\n",
    "import seaborn as sns\n",
    "import os\n",
    "from sklearn import linear_model\n",
    "plt.style.use('fivethirtyeight')\n",
    "from statsmodels.formula.api import ols\n",
    "\n",
    "# Use Python's \"magic\" commands since we want to see the graphs within this notebook\n",
    "%matplotlib inline\n",
    "%pylab inline"
   ]
  },
  {
   "cell_type": "code",
   "execution_count": 140,
   "metadata": {},
   "outputs": [],
   "source": [
    "directory = os.getcwd() + \"/data/\""
   ]
  },
  {
   "cell_type": "code",
   "execution_count": 141,
   "metadata": {},
   "outputs": [],
   "source": [
    "class loadData():\n",
    "    \n",
    "    def __init__(self, ticker):\n",
    "        self.ticker = ticker\n",
    "    \n",
    "    def source_data(self, source = \"api\"):\n",
    "        \n",
    "        if source == \"api\":\n",
    "            quandl.ApiConfig.api_key = \"U4JsbXnxqewAQH5ACxAa\" # Password has been  changed before publishing this notebook\n",
    "            ticker_data = quandl.get_table('WIKI/PRICES', ticker = self.ticker)\n",
    "            ticker_data = ticker_data[['date','adj_close']][-1000:].set_index(\"date\")\n",
    "            ticker_data[\"{}\".format(self.ticker) + \"_returns\"] = ticker_data[\"adj_close\"].pct_change(1)\n",
    "            \n",
    "        if source == \"csv\":\n",
    "            path = directory + \"{}.csv\".format(self.ticker)\n",
    "            ticker_data = pd.read_csv(path, parse_dates=True, index_col='date')\n",
    "            ticker_data = ticker_data[[\"adj_close\"]]\n",
    "            ticker_data[\"{}\".format(self.ticker) + \"_returns\"] = ticker_data[\"adj_close\"].pct_change(1)\n",
    "        \n",
    "        return ticker_data.dropna(axis=0)"
   ]
  },
  {
   "cell_type": "code",
   "execution_count": 142,
   "metadata": {},
   "outputs": [
    {
     "data": {
      "text/html": [
       "<div>\n",
       "<style scoped>\n",
       "    .dataframe tbody tr th:only-of-type {\n",
       "        vertical-align: middle;\n",
       "    }\n",
       "\n",
       "    .dataframe tbody tr th {\n",
       "        vertical-align: top;\n",
       "    }\n",
       "\n",
       "    .dataframe thead th {\n",
       "        text-align: right;\n",
       "    }\n",
       "</style>\n",
       "<table border=\"1\" class=\"dataframe\">\n",
       "  <thead>\n",
       "    <tr style=\"text-align: right;\">\n",
       "      <th></th>\n",
       "      <th>SNP500_returns</th>\n",
       "      <th>AAPL_returns</th>\n",
       "    </tr>\n",
       "    <tr>\n",
       "      <th>date</th>\n",
       "      <th></th>\n",
       "      <th></th>\n",
       "    </tr>\n",
       "  </thead>\n",
       "  <tbody>\n",
       "    <tr>\n",
       "      <th>2014-04-08</th>\n",
       "      <td>0.007189</td>\n",
       "      <td>-0.000057</td>\n",
       "    </tr>\n",
       "    <tr>\n",
       "      <th>2014-04-09</th>\n",
       "      <td>-0.001534</td>\n",
       "      <td>0.013144</td>\n",
       "    </tr>\n",
       "  </tbody>\n",
       "</table>\n",
       "</div>"
      ],
      "text/plain": [
       "            SNP500_returns  AAPL_returns\n",
       "date                                    \n",
       "2014-04-08        0.007189     -0.000057\n",
       "2014-04-09       -0.001534      0.013144"
      ]
     },
     "execution_count": 142,
     "metadata": {},
     "output_type": "execute_result"
    }
   ],
   "source": [
    "aapl = loadData(\"AAPL\").source_data(\"api\")\n",
    "snp500 = loadData(\"SNP500\").source_data(\"csv\")\n",
    "\n",
    "data = aapl.join(snp500, on = \"date\", lsuffix = \"aapl\")\n",
    "data = data[[\"SNP500_returns\",\"AAPL_returns\"]]\n",
    "data = data.dropna()\n",
    "\n",
    "data.head(2)"
   ]
  },
  {
   "cell_type": "markdown",
   "metadata": {},
   "source": [
    "### Stock Variance\n",
    "\n",
    "First, lets check the summary statistics for both AAPL and the S&P Index. We can also plot the returns as a histogram to get an idea of dispersion of returns."
   ]
  },
  {
   "cell_type": "code",
   "execution_count": 143,
   "metadata": {},
   "outputs": [
    {
     "data": {
      "text/plain": [
       "count    855.000000\n",
       "mean       0.001122\n",
       "std        0.014059\n",
       "min       -0.065707\n",
       "25%       -0.005621\n",
       "50%        0.000893\n",
       "75%        0.008646\n",
       "max        0.081982\n",
       "Name: AAPL_returns, dtype: float64"
      ]
     },
     "execution_count": 143,
     "metadata": {},
     "output_type": "execute_result"
    }
   ],
   "source": [
    "# Here we can see AAPL has a mean return of around 0.11% with standard deviation 1.4%\n",
    "# The minimum return was -6.5% and the max 8.2%\n",
    "\n",
    "aapl_summary = data[\"AAPL_returns\"].describe()\n",
    "aapl_summary"
   ]
  },
  {
   "cell_type": "code",
   "execution_count": 144,
   "metadata": {},
   "outputs": [
    {
     "data": {
      "text/plain": [
       "<matplotlib.axes._subplots.AxesSubplot at 0x1a0db95198>"
      ]
     },
     "execution_count": 144,
     "metadata": {},
     "output_type": "execute_result"
    },
    {
     "data": {
      "image/png": "[encoded data removed]",
      "text/plain": [
       "<Figure size 432x288 with 1 Axes>"
      ]
     },
     "metadata": {},
     "output_type": "display_data"
    }
   ],
   "source": [
    "# Lets now plot the distribution of returns using our favourite \"FiveThirtyEight\" styled histogram\n",
    "\n",
    "data[\"AAPL_returns\"].hist(bins=50, figsize=(6,4))"
   ]
  },
  {
   "cell_type": "code",
   "execution_count": 145,
   "metadata": {},
   "outputs": [
    {
     "name": "stdout",
     "output_type": "stream",
     "text": [
      "The max value for aapl was recorded on 2014-04-24 while the min value was recorded on 2016-01-27\n"
     ]
    }
   ],
   "source": [
    "# There are some outliers\n",
    "# Lets check on what date AAPL had a min and max return\n",
    "\n",
    "max_date = data.loc[data['AAPL_returns'].idxmax()].name.date()\n",
    "min_date = data.loc[data['AAPL_returns'].idxmin()].name.date()\n",
    "\n",
    "print (\"The max value for aapl was recorded on {} while the min value was recorded on {}\".format(max_date, min_date))"
   ]
  },
  {
   "cell_type": "code",
   "execution_count": 146,
   "metadata": {},
   "outputs": [
    {
     "data": {
      "text/plain": [
       "count    855.000000\n",
       "mean       0.000404\n",
       "std        0.007670\n",
       "min       -0.039414\n",
       "25%       -0.002640\n",
       "50%        0.000419\n",
       "75%        0.004441\n",
       "max        0.039034\n",
       "Name: SNP500_returns, dtype: float64"
      ]
     },
     "execution_count": 146,
     "metadata": {},
     "output_type": "execute_result"
    }
   ],
   "source": [
    "# Now, lets do the same for the S&P returns, and plot them side by side\n",
    "\n",
    "snp_summary = data[\"SNP500_returns\"].describe()\n",
    "snp_summary "
   ]
  },
  {
   "cell_type": "code",
   "execution_count": 147,
   "metadata": {},
   "outputs": [
    {
     "data": {
      "image/png": "[encoded data removed]",
      "text/plain": [
       "<Figure size 432x288 with 1 Axes>"
      ]
     },
     "metadata": {},
     "output_type": "display_data"
    }
   ],
   "source": [
    "style.use('fivethirtyeight')\n",
    "\n",
    "x = data[\"SNP500_returns\"] * 100\n",
    "y = data[\"AAPL_returns\"] * 100\n",
    "\n",
    "plt.hist(x, alpha = 0.5, bins=50, label='S&P 500')\n",
    "plt.hist(y,alpha = 0.5, bins = 50, label='Apple Inc.')\n",
    "plt.legend(loc='upper right')\n",
    "plt.tick_params(axis = 'both', which = 'major', labelsize = 9)\n",
    "plt.axhline(y = 0, color = 'black', linewidth = 5, alpha = 1)\n",
    "#plt.xlabel(s = \"% return\", fontsize = \"small\")\n",
    "\n",
    "plt.text(-7.2, 140, s = \"\"\"This grap plots the distribution of daily returns of Apple Inc. against \n",
    "returns of the S&P 500 between 07-MAR-2014 and 23-FEB-2018. \n",
    "The histogram for Apple Inc. is more dispersed, with more extreme \n",
    "highs and lows. During this period, Apple Inc. had a high of 8.1%\n",
    "and a low of -6.5%.\"\"\", fontsize = 10, alpha = .75)\n",
    "\n",
    "plt.text(-7.2, 175, s = \"\"\"Plotting return distributions\"\"\", weight = \"bold\", fontsize = 18, alpha = .75)\n",
    "plt.show()"
   ]
  },
  {
   "cell_type": "markdown",
   "metadata": {},
   "source": [
    "### Value at Risk (VaR)"
   ]
  },
  {
   "cell_type": "code",
   "execution_count": 148,
   "metadata": {},
   "outputs": [
    {
     "name": "stdout",
     "output_type": "stream",
     "text": [
      "The one day VaR for Apple on a $1 million portfolio is $31,582.78\n",
      "The one day VaR for the S&P 500 on a $1 million portfolio is $17,439.45\n"
     ]
    }
   ],
   "source": [
    "from scipy.stats import norm\n",
    "\n",
    "def var_cov_var(P, c, m, sigma):\n",
    "    \"\"\"\n",
    "    Variance-Covariance calculation of daily Value-at-Risk\n",
    "    using confidence level c, with mean of returns m\n",
    "    and standard deviation of returns sigma, on a portfolio\n",
    "    of value P.\n",
    "    \"\"\"\n",
    "    alpha = norm.ppf(1-c, m, sigma)\n",
    "    return P - P*(alpha + 1)\n",
    "\n",
    "P = 1000000   # 1,000,000 USD\n",
    "c = 0.99  # 99% confidence interval\n",
    "\n",
    "aapl_mean = data[\"AAPL_returns\"].mean()\n",
    "aapl_sigma = data[\"AAPL_returns\"].std()\n",
    "\n",
    "snp_mean = data[\"SNP500_returns\"].mean()\n",
    "snp_sigma = data[\"SNP500_returns\"].std()\n",
    "\n",
    "var_aapl = var_cov_var(P, c, aapl_mean, aapl_sigma)\n",
    "var_snp = var_cov_var(P, c, snp_mean, snp_sigma)\n",
    "\n",
    "print (\"The one day VaR for Apple on a $1 million portfolio is ${:,.2f}\".format(round(var_aapl,2)))\n",
    "print (\"The one day VaR for the S&P 500 on a $1 million portfolio is ${:,.2f}\".format(round(var_snp,2)))"
   ]
  },
  {
   "cell_type": "code",
   "execution_count": null,
   "metadata": {
    "collapsed": true
   },
   "outputs": [],
   "source": []
  }
 ],
 "metadata": {
  "anaconda-cloud": {},
  "kernelspec": {
   "display_name": "Python 3",
   "language": "python",
   "name": "python3"
  },
  "language_info": {
   "codemirror_mode": {
    "name": "ipython",
    "version": 3
   },
   "file_extension": ".py",
   "mimetype": "text/x-python",
   "name": "python",
   "nbconvert_exporter": "python",
   "pygments_lexer": "ipython3",
   "version": "3.6.5"
  }
 },
 "nbformat": 4,
 "nbformat_minor": 2
}
