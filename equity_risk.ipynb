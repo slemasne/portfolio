{
 "cells": [
  {
   "cell_type": "markdown",
   "metadata": {},
   "source": [
    "### Measuring Equity Risk\n",
    "\n",
    "In this notebook we'll explore three statistical methods for calculating Equity Risk:\n",
    "\n",
    "+ Variance: fluctuation of stock return from its mean\n",
    "+ Beta: riskiness of a stock compared to the market\n",
    "+ VaR: the maximum an investor could loose (within a confidence interval)\n",
    "\n",
    "For the purposes of this notebook, we'll explore the above looking at the risk of Apple (ticker = AAPL)."
   ]
  },
  {
   "cell_type": "code",
   "execution_count": 30,
   "metadata": {
    "collapsed": false
   },
   "outputs": [
    {
     "name": "stdout",
     "output_type": "stream",
     "text": [
      "Populating the interactive namespace from numpy and matplotlib\n"
     ]
    }
   ],
   "source": [
    "# Import all the required packages\n",
    "# The pandas_datareader library contains functions which allow us to call data from various internet sources\n",
    "import pandas as pd\n",
    "import quandl\n",
    "import datetime\n",
    "import matplotlib.pyplot as plt\n",
    "import seaborn as sns\n",
    "from sklearn import linear_model\n",
    "plt.style.use('fivethirtyeight')\n",
    "from statsmodels.formula.api import ols\n",
    "\n",
    "# Use Python's \"magic\" commands since we want to see the graphs within this notebook\n",
    "%matplotlib inline\n",
    "%pylab inline"
   ]
  },
  {
   "cell_type": "markdown",
   "metadata": {},
   "source": [
    "#### Collecting and cleaning the data"
   ]
  },
  {
   "cell_type": "code",
   "execution_count": 31,
   "metadata": {
    "collapsed": true
   },
   "outputs": [],
   "source": [
    "# First, we need to collect our data\n",
    "# Lets collect stock prices for AAPL using the QandL API\n",
    "# Lets limit our sample to the last 1000 days of prices\n",
    "\n",
    "quandl.ApiConfig.api_key = \"U4JsbXnxqewAQH5ACxAa\" # Password has been  changed before publishing this notebook\n",
    "aapl = quandl.get_table('WIKI/PRICES', ticker='AAPL')\n",
    "aapl = aapl[['date','adj_close']][-1000:]\n",
    "aapl = aapl.set_index(\"date\")\n",
    "aapl[\"aapl_returns\"] = aapl['adj_close'].pct_change()\n",
    "aapl = aapl.dropna(axis=0) "
   ]
  },
  {
   "cell_type": "code",
   "execution_count": 32,
   "metadata": {
    "collapsed": false
   },
   "outputs": [
    {
     "data": {
      "text/html": [
       "<div>\n",
       "<style scoped>\n",
       "    .dataframe tbody tr th:only-of-type {\n",
       "        vertical-align: middle;\n",
       "    }\n",
       "\n",
       "    .dataframe tbody tr th {\n",
       "        vertical-align: top;\n",
       "    }\n",
       "\n",
       "    .dataframe thead th {\n",
       "        text-align: right;\n",
       "    }\n",
       "</style>\n",
       "<table border=\"1\" class=\"dataframe\">\n",
       "  <thead>\n",
       "    <tr style=\"text-align: right;\">\n",
       "      <th></th>\n",
       "      <th>adj_close</th>\n",
       "      <th>aapl_returns</th>\n",
       "    </tr>\n",
       "    <tr>\n",
       "      <th>date</th>\n",
       "      <th></th>\n",
       "      <th></th>\n",
       "    </tr>\n",
       "  </thead>\n",
       "  <tbody>\n",
       "    <tr>\n",
       "      <th>2018-02-26</th>\n",
       "      <td>178.97</td>\n",
       "      <td>0.019453</td>\n",
       "    </tr>\n",
       "    <tr>\n",
       "      <th>2018-02-27</th>\n",
       "      <td>178.39</td>\n",
       "      <td>-0.003241</td>\n",
       "    </tr>\n",
       "  </tbody>\n",
       "</table>\n",
       "</div>"
      ],
      "text/plain": [
       "            adj_close  aapl_returns\n",
       "date                               \n",
       "2018-02-26     178.97      0.019453\n",
       "2018-02-27     178.39     -0.003241"
      ]
     },
     "execution_count": 32,
     "metadata": {},
     "output_type": "execute_result"
    }
   ],
   "source": [
    "## Lets check the data looks OK?\n",
    "\n",
    "aapl.tail(2)"
   ]
  },
  {
   "cell_type": "code",
   "execution_count": 33,
   "metadata": {
    "collapsed": false
   },
   "outputs": [],
   "source": [
    "# For demonstration purposes, lets collect S&P returns using a CSV file (rather than the API above)\n",
    "# Note: the csv file below is saved locally\n",
    "\n",
    "path = \"C:/Users/Stephen/Documents/Juypter/Portfolio/data/snp500.csv\"\n",
    "snp = pd.read_csv(path, parse_dates=True, index_col='Date')\n",
    "snp = snp[[\"Adj Close\"]]\n",
    "snp[\"snp_returns\"] = snp[\"Adj Close\"].pct_change(1)\n",
    "snp = snp.dropna(axis=0) "
   ]
  },
  {
   "cell_type": "code",
   "execution_count": 34,
   "metadata": {
    "collapsed": false
   },
   "outputs": [],
   "source": [
    "# Join the AAPL and SnP data into one DataFrame\n",
    "\n",
    "data = aapl.join(snp)\n",
    "data = data[[\"snp_returns\",\"aapl_returns\"]]\n",
    "data = data.dropna()"
   ]
  },
  {
   "cell_type": "code",
   "execution_count": 35,
   "metadata": {
    "collapsed": false
   },
   "outputs": [
    {
     "data": {
      "text/html": [
       "<div>\n",
       "<style scoped>\n",
       "    .dataframe tbody tr th:only-of-type {\n",
       "        vertical-align: middle;\n",
       "    }\n",
       "\n",
       "    .dataframe tbody tr th {\n",
       "        vertical-align: top;\n",
       "    }\n",
       "\n",
       "    .dataframe thead th {\n",
       "        text-align: right;\n",
       "    }\n",
       "</style>\n",
       "<table border=\"1\" class=\"dataframe\">\n",
       "  <thead>\n",
       "    <tr style=\"text-align: right;\">\n",
       "      <th></th>\n",
       "      <th>snp_returns</th>\n",
       "      <th>aapl_returns</th>\n",
       "    </tr>\n",
       "    <tr>\n",
       "      <th>date</th>\n",
       "      <th></th>\n",
       "      <th></th>\n",
       "    </tr>\n",
       "  </thead>\n",
       "  <tbody>\n",
       "    <tr>\n",
       "      <th>2018-02-21</th>\n",
       "      <td>-0.005497</td>\n",
       "      <td>-0.004539</td>\n",
       "    </tr>\n",
       "    <tr>\n",
       "      <th>2018-02-22</th>\n",
       "      <td>0.000974</td>\n",
       "      <td>0.008944</td>\n",
       "    </tr>\n",
       "  </tbody>\n",
       "</table>\n",
       "</div>"
      ],
      "text/plain": [
       "            snp_returns  aapl_returns\n",
       "date                                 \n",
       "2018-02-21    -0.005497     -0.004539\n",
       "2018-02-22     0.000974      0.008944"
      ]
     },
     "execution_count": 35,
     "metadata": {},
     "output_type": "execute_result"
    }
   ],
   "source": [
    "# Eyeball the new DataFrame\n",
    "# Results look good! \n",
    "\n",
    "data.tail(2)"
   ]
  },
  {
   "cell_type": "markdown",
   "metadata": {},
   "source": [
    "#### Stock Variance\n",
    "\n",
    "First, lets check the summary statistics for both AAPL and the S&P Index. We can also plot the returns as a histogram to get an idea of dispersion of returns."
   ]
  },
  {
   "cell_type": "code",
   "execution_count": 36,
   "metadata": {
    "collapsed": false
   },
   "outputs": [
    {
     "data": {
      "text/plain": [
       "count    873.000000\n",
       "mean       0.001112\n",
       "std        0.013946\n",
       "min       -0.065707\n",
       "25%       -0.005618\n",
       "50%        0.000893\n",
       "75%        0.008637\n",
       "max        0.081982\n",
       "Name: aapl_returns, dtype: float64"
      ]
     },
     "execution_count": 36,
     "metadata": {},
     "output_type": "execute_result"
    }
   ],
   "source": [
    "# Here we can see AAPL has a mean return of around 0.11% with standard deviation 1.4%\n",
    "# The minimum return was -6.5% and the max 8.2%\n",
    "\n",
    "aapl_summary = data[\"aapl_returns\"].describe()\n",
    "aapl_summary"
   ]
  },
  {
   "cell_type": "code",
   "execution_count": 37,
   "metadata": {
    "collapsed": false
   },
   "outputs": [
    {
     "data": {
      "text/plain": [
       "<matplotlib.axes._subplots.AxesSubplot at 0x133badf0>"
      ]
     },
     "execution_count": 37,
     "metadata": {},
     "output_type": "execute_result"
    },
    {
     "data": {
      "image/png": "[encoded data removed]",
      "text/plain": [
       "<matplotlib.figure.Figure at 0x10c8a5d0>"
      ]
     },
     "metadata": {},
     "output_type": "display_data"
    }
   ],
   "source": [
    "# Lets now plot the distribution of returns using our favourite \"FiveThirtyEight\" styled histogram\n",
    "\n",
    "data[\"aapl_returns\"].hist(bins=50, figsize=(6,4))"
   ]
  },
  {
   "cell_type": "code",
   "execution_count": 38,
   "metadata": {
    "collapsed": false
   },
   "outputs": [
    {
     "data": {
      "text/html": [
       "<div>\n",
       "<style scoped>\n",
       "    .dataframe tbody tr th:only-of-type {\n",
       "        vertical-align: middle;\n",
       "    }\n",
       "\n",
       "    .dataframe tbody tr th {\n",
       "        vertical-align: top;\n",
       "    }\n",
       "\n",
       "    .dataframe thead th {\n",
       "        text-align: right;\n",
       "    }\n",
       "</style>\n",
       "<table border=\"1\" class=\"dataframe\">\n",
       "  <thead>\n",
       "    <tr style=\"text-align: right;\">\n",
       "      <th></th>\n",
       "      <th>snp_returns</th>\n",
       "      <th>aapl_returns</th>\n",
       "    </tr>\n",
       "    <tr>\n",
       "      <th>date</th>\n",
       "      <th></th>\n",
       "      <th></th>\n",
       "    </tr>\n",
       "  </thead>\n",
       "  <tbody>\n",
       "    <tr>\n",
       "      <th>2014-03-10</th>\n",
       "      <td>0.011166</td>\n",
       "      <td>0.000905</td>\n",
       "    </tr>\n",
       "  </tbody>\n",
       "</table>\n",
       "</div>"
      ],
      "text/plain": [
       "            snp_returns  aapl_returns\n",
       "date                                 \n",
       "2014-03-10     0.011166      0.000905"
      ]
     },
     "execution_count": 38,
     "metadata": {},
     "output_type": "execute_result"
    }
   ],
   "source": [
    "data.head(1)"
   ]
  },
  {
   "cell_type": "code",
   "execution_count": 39,
   "metadata": {
    "collapsed": false
   },
   "outputs": [
    {
     "name": "stdout",
     "output_type": "stream",
     "text": [
      "The max value for aapl was recorded on 2014-04-24 while the min value was recorded on 2016-01-27\n"
     ]
    }
   ],
   "source": [
    "# There are some outliers\n",
    "# Lets check on what date AAPL had a min and max return\n",
    "\n",
    "max_date = data.loc[data['aapl_returns'].idxmax()].name.date()\n",
    "min_date = data.loc[data['aapl_returns'].idxmin()].name.date()\n",
    "\n",
    "print \"The max value for aapl was recorded on {} while the min value was recorded on {}\".format(max_date, min_date)"
   ]
  },
  {
   "cell_type": "code",
   "execution_count": 40,
   "metadata": {
    "collapsed": false
   },
   "outputs": [
    {
     "data": {
      "text/plain": [
       "count    873.000000\n",
       "mean       0.000420\n",
       "std        0.007672\n",
       "min       -0.039414\n",
       "25%       -0.002740\n",
       "50%        0.000419\n",
       "75%        0.004457\n",
       "max        0.039034\n",
       "Name: snp_returns, dtype: float64"
      ]
     },
     "execution_count": 40,
     "metadata": {},
     "output_type": "execute_result"
    }
   ],
   "source": [
    "# Now, lets do the same for the S&P returns, and plot them side by side\n",
    "\n",
    "snp_summary = data[\"snp_returns\"].describe()\n",
    "snp_summary "
   ]
  },
  {
   "cell_type": "code",
   "execution_count": 41,
   "metadata": {
    "collapsed": false
   },
   "outputs": [
    {
     "data": {
      "image/png": "[encoded data removed]",
      "text/plain": [
       "<matplotlib.figure.Figure at 0x1127bab0>"
      ]
     },
     "metadata": {},
     "output_type": "display_data"
    }
   ],
   "source": [
    "style.use('fivethirtyeight')\n",
    "\n",
    "x = data[\"snp_returns\"] * 100\n",
    "y = data[\"aapl_returns\"] * 100\n",
    "\n",
    "plt.hist(x, alpha = 0.5, bins=50, label='S&P 500')\n",
    "plt.hist(y,alpha = 0.5, bins = 50, label='Apple Inc.')\n",
    "plt.legend(loc='upper right')\n",
    "plt.tick_params(axis = 'both', which = 'major', labelsize = 9)\n",
    "plt.axhline(y = 0, color = 'black', linewidth = 5, alpha = 1)\n",
    "#plt.xlabel(s = \"% return\", fontsize = \"small\")\n",
    "\n",
    "plt.text(-7.2, 140, s = \"\"\"This grap plots the distribution of daily returns of Apple Inc. against \n",
    "returns of the S&P 500 between 07-MAR-2014 and 23-FEB-2018. \n",
    "The histogram for Apple Inc. is more dispersed, with more extreme \n",
    "highs and lows. During this period, Apple Inc. had a high of 8.1%\n",
    "and a low of -6.5%.\"\"\", fontsize = 10, alpha = .75)\n",
    "\n",
    "plt.text(-7.2, 175, s = \"\"\"Plotting return distributions\"\"\", weight = \"bold\", fontsize = 18, alpha = .75)\n",
    "plt.show()"
   ]
  },
  {
   "cell_type": "markdown",
   "metadata": {},
   "source": [
    "#### Value at Risk (VaR)"
   ]
  },
  {
   "cell_type": "code",
   "execution_count": 42,
   "metadata": {
    "collapsed": false
   },
   "outputs": [
    {
     "name": "stdout",
     "output_type": "stream",
     "text": [
      "The one day VaR for Apple on a $1 million portfolio is $31,330.03\n",
      "The one day VaR for the S&P 500 on a $1 million portfolio is $17,427.80\n"
     ]
    }
   ],
   "source": [
    "from scipy.stats import norm\n",
    "\n",
    "def var_cov_var(P, c, m, sigma):\n",
    "    \"\"\"\n",
    "    Variance-Covariance calculation of daily Value-at-Risk\n",
    "    using confidence level c, with mean of returns m\n",
    "    and standard deviation of returns sigma, on a portfolio\n",
    "    of value P.\n",
    "    \"\"\"\n",
    "    alpha = norm.ppf(1-c, m, sigma)\n",
    "    return P - P*(alpha + 1)\n",
    "\n",
    "P = 1000000   # 1,000,000 USD\n",
    "c = 0.99  # 99% confidence interval\n",
    "\n",
    "aapl_mean = data[\"aapl_returns\"].mean()\n",
    "aapl_sigma = data[\"aapl_returns\"].std()\n",
    "\n",
    "snp_mean = data[\"snp_returns\"].mean()\n",
    "snp_sigma = data[\"snp_returns\"].std()\n",
    "\n",
    "var_aapl = var_cov_var(P, c, aapl_mean, aapl_sigma)\n",
    "var_snp = var_cov_var(P, c, snp_mean, snp_sigma)\n",
    "\n",
    "print \"The one day VaR for Apple on a $1 million portfolio is ${:,.2f}\".format(round(var_aapl,2))\n",
    "print \"The one day VaR for the S&P 500 on a $1 million portfolio is ${:,.2f}\".format(round(var_snp,2))"
   ]
  },
  {
   "cell_type": "markdown",
   "metadata": {},
   "source": [
    "#### Beta"
   ]
  },
  {
   "cell_type": "code",
   "execution_count": 43,
   "metadata": {
    "collapsed": true
   },
   "outputs": [],
   "source": [
    "path = \"C:/Users/Stephen/Documents/Juypter/Portfolio/data/monthly.csv\"\n",
    "monthly = pd.read_csv(path, parse_dates=True, index_col='Date')\n",
    "monthly[\"snp_returns\"] = monthly[\"snp\"].pct_change(1)\n",
    "monthly[\"aapl_returns\"] = monthly[\"aapl\"].pct_change(1)\n",
    "monthly = monthly.dropna(axis=0) "
   ]
  },
  {
   "cell_type": "code",
   "execution_count": 44,
   "metadata": {
    "collapsed": false
   },
   "outputs": [
    {
     "name": "stdout",
     "output_type": "stream",
     "text": [
      "                            OLS Regression Results                            \n",
      "==============================================================================\n",
      "Dep. Variable:           aapl_returns   R-squared:                       0.293\n",
      "Model:                            OLS   Adj. R-squared:                  0.281\n",
      "Method:                 Least Squares   F-statistic:                     24.07\n",
      "Date:                Wed, 28 Feb 2018   Prob (F-statistic):           7.88e-06\n",
      "Time:                        20:34:21   Log-Likelihood:                 90.792\n",
      "No. Observations:                  60   AIC:                            -177.6\n",
      "Df Residuals:                      58   BIC:                            -173.4\n",
      "Df Model:                           1                                         \n",
      "Covariance Type:            nonrobust                                         \n",
      "===============================================================================\n",
      "                  coef    std err          t      P>|t|      [0.025      0.975]\n",
      "-------------------------------------------------------------------------------\n",
      "const           0.0119      0.007      1.602      0.115      -0.003       0.027\n",
      "snp_returns     1.2440      0.254      4.906      0.000       0.736       1.752\n",
      "==============================================================================\n",
      "Omnibus:                        2.251   Durbin-Watson:                   2.250\n",
      "Prob(Omnibus):                  0.325   Jarque-Bera (JB):                1.904\n",
      "Skew:                          -0.436   Prob(JB):                        0.386\n",
      "Kurtosis:                       2.955   Cond. No.                         36.2\n",
      "==============================================================================\n",
      "\n",
      "Warnings:\n",
      "[1] Standard Errors assume that the covariance matrix of the errors is correctly specified.\n"
     ]
    }
   ],
   "source": [
    "import statsmodels.api as sm\n",
    "\n",
    "# split dependent and independent variable\n",
    "X = monthly[\"snp_returns\"]\n",
    "y = monthly[\"aapl_returns\"]\n",
    "\n",
    "# Add a constant to the independent value\n",
    "X1 = sm.add_constant(X)\n",
    "\n",
    "# make regression model \n",
    "model = sm.OLS(y, X1)\n",
    "\n",
    "# fit model and print results\n",
    "results = model.fit()\n",
    "print(results.summary())"
   ]
  },
  {
   "cell_type": "code",
   "execution_count": null,
   "metadata": {
    "collapsed": true
   },
   "outputs": [],
   "source": []
  },
  {
   "cell_type": "code",
   "execution_count": null,
   "metadata": {
    "collapsed": true
   },
   "outputs": [],
   "source": []
  }
 ],
 "metadata": {
  "anaconda-cloud": {},
  "kernelspec": {
   "display_name": "Python [Anaconda2]",
   "language": "python",
   "name": "Python [Anaconda2]"
  },
  "language_info": {
   "codemirror_mode": {
    "name": "ipython",
    "version": 2
   },
   "file_extension": ".py",
   "mimetype": "text/x-python",
   "name": "python",
   "nbconvert_exporter": "python",
   "pygments_lexer": "ipython2",
   "version": "2.7.14"
  }
 },
 "nbformat": 4,
 "nbformat_minor": 2
}
